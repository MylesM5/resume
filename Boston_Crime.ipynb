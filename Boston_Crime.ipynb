{
 "cells": [
  {
   "cell_type": "markdown",
   "metadata": {},
   "source": [
    "# Boston Crime Postgres Workflow"
   ]
  },
  {
   "cell_type": "markdown",
   "metadata": {},
   "source": [
    "   In this project, the workflow will demonstrate the creation of a database, users, groups, and data transfer of a CSV to a PostgreSQL server. Using the psycopg2 module; storing and querying data in a postgres server for analysis in Python makes for a very powerful tool.\n",
    "   \n",
    "   Lets start by importing psycopg2, then after connecting to the server and creating the schema, the database can be made."
   ]
  },
  {
   "cell_type": "code",
   "execution_count": null,
   "metadata": {
    "scrolled": false
   },
   "outputs": [],
   "source": [
    "import psycopg2\n",
    "conn = psycopg2.connect(dbname='myles',user='postgres')\n",
    "conn.autocommit = True\n",
    "cur = conn.cursor()\n",
    "cur.execute(\"CREATE DATABASE crime_db;\")\n",
    "conn.close()"
   ]
  },
  {
   "cell_type": "code",
   "execution_count": null,
   "metadata": {
    "scrolled": true
   },
   "outputs": [],
   "source": [
    "conn = psycopg2.connect(dbname=\"crime_db\",user=\"postgres\")\n",
    "cur = conn.cursor()\n",
    "cur.execute(\"CREATE SCHEMA crimes;\")\n",
    "conn.commit()\n",
    "conn.close()"
   ]
  },
  {
   "cell_type": "code",
   "execution_count": 16,
   "metadata": {},
   "outputs": [],
   "source": [
    "conn = psycopg2.connect(dbname=\"crime_db\",user=\"postgres\")\n",
    "cur = conn.cursor()"
   ]
  },
  {
   "cell_type": "markdown",
   "metadata": {},
   "source": [
    "## Inspecting the Data"
   ]
  },
  {
   "cell_type": "markdown",
   "metadata": {},
   "source": [
    "Now that the database and schema are up and running, lets take a look at the data before sending it to the db."
   ]
  },
  {
   "cell_type": "code",
   "execution_count": null,
   "metadata": {},
   "outputs": [],
   "source": [
    "import csv\n",
    "with open('boston.csv') as file:\n",
    "    reader = csv.reader(file)\n",
    "    col_headers = next(reader)\n",
    "    first_row = next(reader)"
   ]
  },
  {
   "cell_type": "code",
   "execution_count": null,
   "metadata": {},
   "outputs": [],
   "source": [
    "print(col_headers)\n",
    "print(\"\\n\")\n",
    "print(first_row)"
   ]
  },
  {
   "cell_type": "markdown",
   "metadata": {},
   "source": [
    "Before creating a table, I want to explore where I can optimize data types as this is running on my local machine. Specifically, I want to look at columns that have a low unique value count. With columns like 'description', 'day_of_the_week', and 'date'; Enumerating or changing to an appropriate type that will not allocate memory for unused space ( ex. int32 vs int 64 )"
   ]
  },
  {
   "cell_type": "code",
   "execution_count": 12,
   "metadata": {},
   "outputs": [],
   "source": [
    "def get_col_set(csv_file, col_index):\n",
    "    unique = set()\n",
    "    with open(csv_file) as file:\n",
    "        reader = csv.reader(file)\n",
    "        next(reader)\n",
    "        for i in reader:\n",
    "            unique.add(i[col_index])\n",
    "    return unique"
   ]
  },
  {
   "cell_type": "code",
   "execution_count": 13,
   "metadata": {},
   "outputs": [],
   "source": [
    "for i in range(7):\n",
    "    x = get_col_set(\"boston.csv\",i)\n",
    "    print(col_headers[i]+\": \" + str(len(x)), sep=\"\\t\")"
   ]
  },
  {
   "cell_type": "markdown",
   "metadata": {},
   "source": [
    "Looking at the results above, enumerating 'day_of_the_week' seems to be the best option as there are seven unique values which can be translated into integers. To retain more direct information regarding the temporal data, the 'date' column will be converted to the date object. The most ambiguous column here is 'description'. "
   ]
  },
  {
   "cell_type": "code",
   "execution_count": null,
   "metadata": {},
   "outputs": [],
   "source": [
    "col_values = []\n",
    "desc = get_col_set(\"boston.csv\",2)\n",
    "for i in desc:\n",
    "    col_values.append(i)"
   ]
  },
  {
   "cell_type": "code",
   "execution_count": null,
   "metadata": {},
   "outputs": [],
   "source": [
    "long = max(col_values,key=len)\n",
    "short = min(col_values,key=len)\n",
    "print(long)\n",
    "print(len(long))\n",
    "print(\"\\n\")\n",
    "print(short)\n",
    "print(len(short))"
   ]
  },
  {
   "cell_type": "markdown",
   "metadata": {},
   "source": [
    "Unfortunately, the description column seems to range from one word, to an entire phrase with symbols like '-'. For this reason the column will remain a text type. "
   ]
  },
  {
   "cell_type": "markdown",
   "metadata": {},
   "source": [
    "## Creating Types & Moving to the Database"
   ]
  },
  {
   "cell_type": "code",
   "execution_count": null,
   "metadata": {},
   "outputs": [],
   "source": [
    "cur.execute(\"\"\"CREATE TYPE day_of_week AS ENUM ( \\\n",
    "'Sunday', \n",
    "'Monday',\n",
    "'Tuesday',\n",
    "'Wednesday',\n",
    "'Thursday',\n",
    "'Friday',\n",
    "'Saturday');\"\"\")"
   ]
  },
  {
   "cell_type": "code",
   "execution_count": null,
   "metadata": {},
   "outputs": [],
   "source": [
    "cur.execute(\"\"\"CREATE TABLE crimes.boston_crimes ( \\\n",
    "                    incident_number INTEGER PRIMARY KEY,\n",
    "                    offense_code BIGINT,\n",
    "                    description text,\n",
    "                    date DATE,\n",
    "                    day day_of_week,\n",
    "                    lat FLOAT,\n",
    "                    long Float);\"\"\")\n",
    "conn.commit()"
   ]
  },
  {
   "cell_type": "code",
   "execution_count": null,
   "metadata": {},
   "outputs": [],
   "source": [
    "with open('boston.csv') as file:\n",
    "    cur.copy_expert(\"COPY crimes.boston_crimes FROM STDIN WITH CSV HEADER;\",file)\n",
    "    \n",
    "conn.commit()    "
   ]
  },
  {
   "cell_type": "markdown",
   "metadata": {},
   "source": [
    "## Users, Groups, and Permissions"
   ]
  },
  {
   "cell_type": "markdown",
   "metadata": {},
   "source": [
    "The users and groups schema consists of two groups; readonly, and readwrite. I've created and assigned two users to these groups; data_analyst and data_scientist, not only to demonstrate their use, but to have a user/group that only allows me to read the data to prevent any INSERT or DELETE mistakes"
   ]
  },
  {
   "cell_type": "code",
   "execution_count": null,
   "metadata": {},
   "outputs": [],
   "source": [
    "cur.execute(\"REVOKE ALL ON SCHEMA public FROM public;\")\n",
    "cur.execute(\"REVOKE ALL ON DATABASE crime_db FROM public;\")\n",
    "conn.commit()"
   ]
  },
  {
   "cell_type": "code",
   "execution_count": null,
   "metadata": {},
   "outputs": [],
   "source": [
    "cur.execute(\"CREATE GROUP readonly NOLOGIN;\")\n",
    "cur.execute(\"CREATE GROUP readwrite NOLOGIN;\")\n",
    "cur.execute(\"GRANT CONNECT ON DATABASE crime_db TO readonly;\")\n",
    "cur.execute(\"GRANT CONNECT ON DATABASE crime_db TO readwrite;\")\n",
    "cur.execute(\"GRANT USAGE ON SCHEMA crimes TO readonly;\")\n",
    "cur.execute(\"GRANT USAGE ON SCHEMA crimes TO readwrite;\")\n",
    "cur.execute(\"GRANT SELECT ON ALL TABLES IN SCHEMA crimes TO readonly;\")\n",
    "cur.execute(\"GRANT SELECT, INSERT, DELETE, UPDATE ON ALL TABLES IN SCHEMA crimes TO readwrite;\")\n",
    "conn.commit()"
   ]
  },
  {
   "cell_type": "code",
   "execution_count": null,
   "metadata": {},
   "outputs": [],
   "source": [
    "cur.execute(\"CREATE USER data_analyst WITH PASSWORD 'secret1';\")\n",
    "cur.execute(\"GRANT readonly TO data_analyst; \")\n",
    "cur.execute(\"CREATE USER data_scientist WITH PASSWORD 'secret2';\")\n",
    "cur.execute(\"GRANT readwrite TO data_scientist; \")\n",
    "conn.commit()"
   ]
  },
  {
   "cell_type": "code",
   "execution_count": 17,
   "metadata": {},
   "outputs": [
    {
     "data": {
      "text/plain": [
       "[('readwrite', 'INSERT'),\n",
       " ('readwrite', 'SELECT'),\n",
       " ('readwrite', 'UPDATE'),\n",
       " ('readwrite', 'DELETE')]"
      ]
     },
     "execution_count": 17,
     "metadata": {},
     "output_type": "execute_result"
    }
   ],
   "source": [
    "cur.execute(\"\"\"SELECT grantee, privilege_type\n",
    "    FROM information_schema.table_privileges\n",
    "    WHERE grantee = 'readwrite';\"\"\")\n",
    "cur.fetchall()"
   ]
  },
  {
   "cell_type": "markdown",
   "metadata": {},
   "source": [
    "## Querying the data "
   ]
  },
  {
   "cell_type": "code",
   "execution_count": 18,
   "metadata": {},
   "outputs": [],
   "source": [
    "conn = psycopg2.connect(dbname=\"crime_db\",user='data_analyst',password=\"secret1\")\n",
    "cur = conn.cursor()"
   ]
  },
  {
   "cell_type": "markdown",
   "metadata": {},
   "source": [
    "Proportion of crime for each day of the week."
   ]
  },
  {
   "cell_type": "code",
   "execution_count": 19,
   "metadata": {
    "scrolled": true
   },
   "outputs": [
    {
     "data": {
      "text/plain": [
       "[('Wednesday', Decimal('0.15')),\n",
       " ('Thursday', Decimal('0.15')),\n",
       " ('Friday', Decimal('0.15')),\n",
       " ('Saturday', Decimal('0.14')),\n",
       " ('Monday', Decimal('0.14')),\n",
       " ('Tuesday', Decimal('0.14')),\n",
       " ('Sunday', Decimal('0.13'))]"
      ]
     },
     "execution_count": 19,
     "metadata": {},
     "output_type": "execute_result"
    }
   ],
   "source": [
    "cur.execute(\"\"\"\n",
    "               SELECT Day, ROUND(CAST(COUNT(offense_code) AS numeric)/\n",
    "               CAST((SELECT COUNT(*) FROM crimes.boston_crimes) AS numeric), 2) week_avg\n",
    "               FROM crimes.boston_crimes\n",
    "               GROUP by Day\n",
    "               ORDER BY week_avg DESC;\n",
    "                \"\"\")\n",
    "cur.fetchall()"
   ]
  },
  {
   "cell_type": "markdown",
   "metadata": {},
   "source": [
    "Description for top 10 offense codes."
   ]
  },
  {
   "cell_type": "code",
   "execution_count": 20,
   "metadata": {},
   "outputs": [
    {
     "data": {
      "text/plain": [
       "[('VANDALISM', 14629),\n",
       " ('TOWED MOTOR VEHICLE', 10764),\n",
       " ('INVESTIGATE PROPERTY', 10614),\n",
       " ('INVESTIGATE PROPERTY', 10614),\n",
       " ('VERBAL DISPUTE', 12951),\n",
       " ('VERBAL DISPUTE', 12951),\n",
       " ('VERBAL DISPUTE', 12951),\n",
       " ('INVESTIGATE PROPERTY', 10614),\n",
       " ('THREATS TO DO BODILY HARM', 8798),\n",
       " ('SICK/INJURED/MEDICAL - PERSON', 17885)]"
      ]
     },
     "execution_count": 20,
     "metadata": {},
     "output_type": "execute_result"
    }
   ],
   "source": [
    "cur.execute(\"\"\"WITH top_10 AS (\n",
    "               \n",
    "               SELECT offense_code, COUNT(*) total\n",
    "               FROM crimes.boston_crimes\n",
    "               GROUP BY offense_code\n",
    "               ORDER BY total DESC\n",
    "               LIMIT 10)\n",
    "               \n",
    "               SELECT b.description,t.total FROM crimes.boston_crimes b,top_10 t\n",
    "               WHERE t.offense_code = b.offense_code\n",
    "               LIMIT 10;\"\"\")\n",
    "\n",
    "cur.fetchall()"
   ]
  },
  {
   "cell_type": "code",
   "execution_count": 21,
   "metadata": {},
   "outputs": [],
   "source": [
    "conn.close()"
   ]
  }
 ],
 "metadata": {
  "kernelspec": {
   "display_name": "Python 3",
   "language": "python",
   "name": "python3"
  },
  "language_info": {
   "codemirror_mode": {
    "name": "ipython",
    "version": 3
   },
   "file_extension": ".py",
   "mimetype": "text/x-python",
   "name": "python",
   "nbconvert_exporter": "python",
   "pygments_lexer": "ipython3",
   "version": "3.7.3"
  }
 },
 "nbformat": 4,
 "nbformat_minor": 2
}
